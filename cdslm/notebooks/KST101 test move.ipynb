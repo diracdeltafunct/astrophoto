{
 "cells": [
  {
   "cell_type": "code",
   "execution_count": null,
   "metadata": {},
   "outputs": [],
   "source": [
    "# imports\n",
    "import os\n",
    "import math\n",
    "from CDSLM.hardware import thor_motor as driver\n",
    "\n",
    "# temp fix until director added to env vars path\n",
    "os.chdir(r'C:\\Program Files\\Thorlabs\\Kinesis') "
   ]
  },
  {
   "cell_type": "code",
   "execution_count": null,
   "metadata": {},
   "outputs": [],
   "source": [
    "# serial number of motor to move\n",
    "serial = 26001318\n",
    "distance_per_step = 0.0497853 / 100000"
   ]
  },
  {
   "cell_type": "markdown",
   "metadata": {},
   "source": [
    "### Connect to motor\n",
    "open response should read 0 if connection is sucessfull"
   ]
  },
  {
   "cell_type": "code",
   "execution_count": null,
   "metadata": {},
   "outputs": [],
   "source": [
    "motor = driver.KST101(serial=serial)"
   ]
  },
  {
   "cell_type": "markdown",
   "metadata": {},
   "source": [
    "### Send Motor to home"
   ]
  },
  {
   "cell_type": "code",
   "execution_count": null,
   "metadata": {},
   "outputs": [],
   "source": [
    "motor.go_home()"
   ]
  },
  {
   "cell_type": "markdown",
   "metadata": {},
   "source": [
    "### Check if motor is home\n",
    "\n",
    "If value reads 0, motor is home"
   ]
  },
  {
   "cell_type": "code",
   "execution_count": null,
   "metadata": {},
   "outputs": [],
   "source": [
    "print(motor.get_position())"
   ]
  },
  {
   "cell_type": "markdown",
   "metadata": {},
   "source": [
    "### Move motor to a set position\n",
    "\n",
    "moves a motor to a defined distance from 0,  *User should see the motor move \n",
    "\n",
    "###### Note: I am having an issue with the distance to conversion function in the SDK, thus position to step conversion is done manually at the moment.  The end distance was recorded in the kinesis software after moving 100000 steps.  That target distance is then divided by that result to get the number of steps.  The floor is taken for rounding consistancy."
   ]
  },
  {
   "cell_type": "code",
   "execution_count": null,
   "metadata": {},
   "outputs": [],
   "source": [
    "distance_from_zero = 1  #mm\n",
    "\n",
    "step_position = math.floor(distance_from_zero/distance_per_step)\n",
    "print(f'Moving to step: {step_position}')\n",
    "motor.move_to_position(step_position)"
   ]
  },
  {
   "cell_type": "code",
   "execution_count": null,
   "metadata": {},
   "outputs": [],
   "source": []
  }
 ],
 "metadata": {
  "kernelspec": {
   "display_name": "Python 3",
   "language": "python",
   "name": "python3"
  },
  "language_info": {
   "codemirror_mode": {
    "name": "ipython",
    "version": 3
   },
   "file_extension": ".py",
   "mimetype": "text/x-python",
   "name": "python",
   "nbconvert_exporter": "python",
   "pygments_lexer": "ipython3",
   "version": "3.6.2"
  }
 },
 "nbformat": 4,
 "nbformat_minor": 2
}
