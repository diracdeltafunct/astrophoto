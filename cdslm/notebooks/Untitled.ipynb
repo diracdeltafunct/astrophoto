{
 "cells": [
  {
   "cell_type": "code",
   "execution_count": 1,
   "metadata": {},
   "outputs": [],
   "source": [
    "import imp\n",
    "import os\n",
    "if 'driver' in globals():\n",
    "    driver = imp.reload(CDSLM.hardware.thor_motor)\n",
    "else:\n",
    "    import CDSLM \n",
    "    import CDSLM.hardware.thor_motor as driver\n",
    "    \n",
    "    \n",
    "os.chdir(r'C:\\Program Files\\Thorlabs\\Kinesis') # temp fix"
   ]
  },
  {
   "cell_type": "code",
   "execution_count": 2,
   "metadata": {},
   "outputs": [],
   "source": [
    "from ctypes import *\n",
    "from CDSLM.hardware.enums import JogParameters"
   ]
  },
  {
   "cell_type": "code",
   "execution_count": 3,
   "metadata": {},
   "outputs": [
    {
     "name": "stdout",
     "output_type": "stream",
     "text": [
      "<CDLL 'Thorlabs.MotionControl.DeviceManager.dll', handle 7fee9340000 at 0x4db8ac8>\n",
      "open response 0\n"
     ]
    }
   ],
   "source": [
    "motor_1 = driver.KST101(serial=26001318)"
   ]
  },
  {
   "cell_type": "code",
   "execution_count": 9,
   "metadata": {},
   "outputs": [
    {
     "name": "stdout",
     "output_type": "stream",
     "text": [
      "<CDSLM.hardware.enums.JogParameters object at 0x0000000005476748>\n"
     ]
    }
   ],
   "source": [
    "params = JogParameters()\n",
    "motor_1._sdk.SCC_GetJogParamsBlock(motor_1._serial, byref(params))\n",
    "print(params)"
   ]
  },
  {
   "cell_type": "code",
   "execution_count": 13,
   "metadata": {},
   "outputs": [
    {
     "name": "stdout",
     "output_type": "stream",
     "text": [
      "786432\n"
     ]
    }
   ],
   "source": [
    "print(params.velParams.maxVelocity)"
   ]
  },
  {
   "cell_type": "code",
   "execution_count": 14,
   "metadata": {},
   "outputs": [
    {
     "data": {
      "text/plain": [
       "0"
      ]
     },
     "execution_count": 14,
     "metadata": {},
     "output_type": "execute_result"
    }
   ],
   "source": [
    "DWORD = c_ulong\n",
    "class TLI_DeviceInfo(Structure):\n",
    "    _fields_ = [\n",
    "        ('typeID', DWORD),\n",
    "        ('description', c_char * 65),\n",
    "        ('serialNo', c_char * 9),\n",
    "        ('PID', DWORD),\n",
    "        ('isKnownType', c_bool),\n",
    "        ('motorType', c_int),\n",
    "        ('isPiezoDevice', c_bool),\n",
    "        ('isLaser', c_bool),\n",
    "        ('isCustomType', c_bool),\n",
    "        ('isRack', c_bool),\n",
    "        ('maxChannels', c_short),\n",
    "    ]\n",
    "info = TLI_DeviceInfo()\n",
    "motor_1.device_manager.TLI_GetDeviceInfo(str(26001318).encode(), byref(info))"
   ]
  },
  {
   "cell_type": "code",
   "execution_count": 6,
   "metadata": {},
   "outputs": [],
   "source": [
    "import time"
   ]
  },
  {
   "cell_type": "code",
   "execution_count": 62,
   "metadata": {},
   "outputs": [
    {
     "name": "stdout",
     "output_type": "stream",
     "text": [
      "0\n"
     ]
    }
   ],
   "source": [
    "motor_1.move_to_position(100000)\n",
    "time.sleep(0.1)\n",
    "print(motor_1.get_position())"
   ]
  },
  {
   "cell_type": "code",
   "execution_count": 63,
   "metadata": {},
   "outputs": [
    {
     "data": {
      "text/plain": [
       "100000"
      ]
     },
     "execution_count": 63,
     "metadata": {},
     "output_type": "execute_result"
    }
   ],
   "source": [
    "motor_1.get_position()"
   ]
  },
  {
   "cell_type": "code",
   "execution_count": 19,
   "metadata": {},
   "outputs": [
    {
     "name": "stdout",
     "output_type": "stream",
     "text": [
      "0\n",
      "unit UnitTypeEnum.DISTANCE\n",
      "c_long(0)\n"
     ]
    }
   ],
   "source": [
    "value = str(2500.0).encode()\n",
    "unit_type = driver.UnitTypeEnum.DISTANCE\n",
    "print(unit_type.value)\n",
    "device_unit = c_int()\n",
    "unit = driver.convert_to_enum(unit_type, driver.UnitTypeEnum)\n",
    "print('unit', unit)\n",
    "motor_1.sdk.SCC_GetDeviceUnitFromRealValue(motor_1._serial, value, byref(device_unit), unit)\n",
    "print(device_unit)"
   ]
  },
  {
   "cell_type": "code",
   "execution_count": 14,
   "metadata": {},
   "outputs": [
    {
     "data": {
      "text/plain": [
       "3"
      ]
     },
     "execution_count": 14,
     "metadata": {},
     "output_type": "execute_result"
    }
   ],
   "source": [
    "device_unit.value"
   ]
  },
  {
   "cell_type": "code",
   "execution_count": 13,
   "metadata": {},
   "outputs": [
    {
     "name": "stdout",
     "output_type": "stream",
     "text": [
      "0.0\n"
     ]
    }
   ],
   "source": [
    "device_value = str(3434).encode()\n",
    "unit_type = driver.UnitTypeEnum.DISTANCE\n",
    "real_unit = c_double()\n",
    "unit = driver.convert_to_enum(unit_type, driver.UnitTypeEnum)\n",
    "motor_1.sdk.SCC_GetRealValueFromDeviceUnit(motor_1._serial, device_value, byref(real_unit), unit)\n",
    "print(real_unit.value)"
   ]
  },
  {
   "cell_type": "code",
   "execution_count": 27,
   "metadata": {},
   "outputs": [
    {
     "data": {
      "text/plain": [
       "1"
      ]
     },
     "execution_count": 27,
     "metadata": {},
     "output_type": "execute_result"
    }
   ],
   "source": [
    "motor_1.needs_homing()"
   ]
  },
  {
   "cell_type": "code",
   "execution_count": 32,
   "metadata": {},
   "outputs": [
    {
     "data": {
      "text/plain": [
       "0"
      ]
     },
     "execution_count": 32,
     "metadata": {},
     "output_type": "execute_result"
    }
   ],
   "source": [
    "motor_1.sdk.SCC_Home(motor_1._serial)"
   ]
  },
  {
   "cell_type": "code",
   "execution_count": 31,
   "metadata": {},
   "outputs": [
    {
     "data": {
      "text/plain": [
       "0"
      ]
     },
     "execution_count": 31,
     "metadata": {},
     "output_type": "execute_result"
    }
   ],
   "source": [
    "motor_1.sdk.SCC_Identify(motor_1._serial)"
   ]
  },
  {
   "cell_type": "code",
   "execution_count": 30,
   "metadata": {},
   "outputs": [
    {
     "data": {
      "text/plain": [
       "b'26001318'"
      ]
     },
     "execution_count": 30,
     "metadata": {},
     "output_type": "execute_result"
    }
   ],
   "source": [
    "motor_1._serial"
   ]
  },
  {
   "cell_type": "code",
   "execution_count": 31,
   "metadata": {},
   "outputs": [
    {
     "data": {
      "text/plain": [
       "20"
      ]
     },
     "execution_count": 31,
     "metadata": {},
     "output_type": "execute_result"
    }
   ],
   "source": [
    "device_unit = c_int()\n",
    "motor_1.sdk.SCC_GetDeviceUnitFromRealValue(motor_1._serial, c_double(.15555234), byref(device_unit), c_int(0))"
   ]
  },
  {
   "cell_type": "code",
   "execution_count": 30,
   "metadata": {},
   "outputs": [
    {
     "name": "stdout",
     "output_type": "stream",
     "text": [
      "c_long(0)\n"
     ]
    }
   ],
   "source": [
    "print(device_unit)"
   ]
  },
  {
   "cell_type": "code",
   "execution_count": 53,
   "metadata": {},
   "outputs": [
    {
     "name": "stdout",
     "output_type": "stream",
     "text": [
      "20\n",
      "b''\n"
     ]
    }
   ],
   "source": [
    "thing = c_double()\n",
    "print(motor_1._sdk.SCC_GetRealValueFromDeviceUnit(motor_1._serial, motor_1.default_acceleration, byref(thing), driver.UnitTypeEnum.ACCELERATION))\n",
    "print(thing)"
   ]
  },
  {
   "cell_type": "code",
   "execution_count": 32,
   "metadata": {},
   "outputs": [],
   "source": [
    "#KCUBESTEPPER_API short __cdecl SCC_GetRealValueFromDeviceUnit(char const * serialNo, int device_unit, double *real_unit, int unitType);"
   ]
  },
  {
   "cell_type": "code",
   "execution_count": 47,
   "metadata": {},
   "outputs": [
    {
     "data": {
      "text/plain": [
       "1017"
      ]
     },
     "execution_count": 47,
     "metadata": {},
     "output_type": "execute_result"
    }
   ],
   "source": [
    "motor_1.default_velocity"
   ]
  },
  {
   "cell_type": "code",
   "execution_count": 48,
   "metadata": {},
   "outputs": [
    {
     "data": {
      "text/plain": [
       "1837105152"
      ]
     },
     "execution_count": 48,
     "metadata": {},
     "output_type": "execute_result"
    }
   ],
   "source": [
    "motor_1.default_acceleration"
   ]
  },
  {
   "cell_type": "code",
   "execution_count": 60,
   "metadata": {},
   "outputs": [
    {
     "data": {
      "text/plain": [
       "0"
      ]
     },
     "execution_count": 60,
     "metadata": {},
     "output_type": "execute_result"
    }
   ],
   "source": [
    "\n",
    "DWORD = c_ulong\n",
    "WORD = c_ushort\n",
    "BYTE =c_byte\n",
    "class TLI_HardwareInformation(Structure):\n",
    "    _fields_ = [\n",
    "        ('serialNumber', DWORD),\n",
    "        ('modelNumber', c_char * 8),\n",
    "        ('type', WORD),\n",
    "        ('numChannels', c_short),\n",
    "        ('notes', c_char * 48),\n",
    "        ('firmwareVersion', DWORD),\n",
    "        ('hardwareVersion', WORD),\n",
    "        ('deviceDependantData', BYTE * 12),\n",
    "        ('modificationState', WORD),\n",
    "    ]\n",
    "\n",
    "\n",
    "\n",
    "info = TLI_HardwareInformation()\n",
    "motor_1.sdk.SCC_GetHardwareInfoBlock(motor_1._serial, byref(info))"
   ]
  },
  {
   "cell_type": "code",
   "execution_count": 61,
   "metadata": {},
   "outputs": [
    {
     "data": {
      "text/plain": [
       "b'KST101'"
      ]
     },
     "execution_count": 61,
     "metadata": {},
     "output_type": "execute_result"
    }
   ],
   "source": [
    "info.modelNumber"
   ]
  },
  {
   "cell_type": "code",
   "execution_count": null,
   "metadata": {},
   "outputs": [],
   "source": []
  }
 ],
 "metadata": {
  "kernelspec": {
   "display_name": "Python 3",
   "language": "python",
   "name": "python3"
  },
  "language_info": {
   "codemirror_mode": {
    "name": "ipython",
    "version": 3
   },
   "file_extension": ".py",
   "mimetype": "text/x-python",
   "name": "python",
   "nbconvert_exporter": "python",
   "pygments_lexer": "ipython3",
   "version": "3.6.5"
  }
 },
 "nbformat": 4,
 "nbformat_minor": 2
}
